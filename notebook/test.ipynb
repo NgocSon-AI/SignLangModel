{
 "cells": [
  {
   "cell_type": "code",
   "execution_count": null,
   "id": "6b2c6a6d",
   "metadata": {},
   "outputs": [
    {
     "name": "stdout",
     "output_type": "stream",
     "text": [
      "Are You Oke\n"
     ]
    }
   ],
   "source": [
    "print(\"Are You Oke?\")"
   ]
  }
 ],
 "metadata": {
  "kernelspec": {
   "display_name": "SignLang",
   "language": "python",
   "name": "python3"
  },
  "language_info": {
   "codemirror_mode": {
    "name": "ipython",
    "version": 3
   },
   "file_extension": ".py",
   "mimetype": "text/x-python",
   "name": "python",
   "nbconvert_exporter": "python",
   "pygments_lexer": "ipython3",
   "version": "3.10.18"
  }
 },
 "nbformat": 4,
 "nbformat_minor": 5
}
